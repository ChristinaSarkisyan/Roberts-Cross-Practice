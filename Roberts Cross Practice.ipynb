{
 "cells": [
  {
   "cell_type": "markdown",
   "metadata": {},
   "source": [
    "# Robert's Cross Practice\n",
    "\n",
    "Essentially I didn't master implementing this concept in class, so now I want to figure it out on my own terms."
   ]
  },
  {
   "cell_type": "code",
   "execution_count": null,
   "metadata": {},
   "outputs": [],
   "source": [
    "threshold = .9 #how much of a difrence there must be for the algorythm to consider it"
   ]
  },
  {
   "cell_type": "markdown",
   "metadata": {},
   "source": [
    "Essentially here is the algorythm plan so far:\n",
    "    -import and succesfully store an image as an array of pixels\n",
    "        -properly understand how to interpret that array and its indices\n",
    "    -figure out exacly what type of loop needed/ # of itterations\n",
    "    -inside the loop:\n",
    "        -check if you get either of the 4 edge patterns\n",
    "    \n",
    "    ****figure out how to put these possitives and negatives together into something usefull!**************"
   ]
  },
  {
   "cell_type": "code",
   "execution_count": null,
   "metadata": {},
   "outputs": [],
   "source": []
  }
 ],
 "metadata": {
  "kernelspec": {
   "display_name": "Python 3",
   "language": "python",
   "name": "python3"
  },
  "language_info": {
   "codemirror_mode": {
    "name": "ipython",
    "version": 3
   },
   "file_extension": ".py",
   "mimetype": "text/x-python",
   "name": "python",
   "nbconvert_exporter": "python",
   "pygments_lexer": "ipython3",
   "version": "3.8.5"
  }
 },
 "nbformat": 4,
 "nbformat_minor": 4
}
