{
 "cells": [
  {
   "cell_type": "markdown",
   "metadata": {},
   "source": [
    "# Robert's Cross Practice\n",
    "\n",
    "Essentially I didn't master implementing this concept in class, so now I want to figure it out on my own terms."
   ]
  },
  {
   "cell_type": "markdown",
   "metadata": {},
   "source": [
    "## Let's make sure the working directory is correct:"
   ]
  },
  {
   "cell_type": "code",
   "execution_count": 13,
   "metadata": {},
   "outputs": [
    {
     "data": {
      "text/plain": [
       "'C:\\\\Users\\\\chris\\\\Desktop\\\\misc\\\\hobbyStuff\\\\Programs\\\\Robberts cross\\\\main'"
      ]
     },
     "execution_count": 13,
     "metadata": {},
     "output_type": "execute_result"
    }
   ],
   "source": [
    "pwd"
   ]
  },
  {
   "cell_type": "code",
   "execution_count": 14,
   "metadata": {},
   "outputs": [
    {
     "name": "stdout",
     "output_type": "stream",
     "text": [
      " Volume in drive C is Windows\n",
      " Volume Serial Number is F8FD-8A6F\n",
      "\n",
      " Directory of C:\\Users\\chris\\Desktop\\misc\\hobbyStuff\\Programs\\Robberts cross\\main\n",
      "\n",
      "05/19/2021  02:24 PM    <DIR>          .\n",
      "05/19/2021  02:24 PM    <DIR>          ..\n",
      "05/19/2021  01:19 PM    <DIR>          .ipynb_checkpoints\n",
      "05/19/2021  02:24 PM             8,346 Roberts Cross Practice.ipynb\n",
      "05/19/2021  01:12 PM             1,817 square_basic.png\n",
      "05/19/2021  02:20 PM             1,921 square_basic_blue.png\n",
      "               3 File(s)         12,084 bytes\n",
      "               3 Dir(s)  857,520,050,176 bytes free\n"
     ]
    }
   ],
   "source": [
    "ls"
   ]
  },
  {
   "cell_type": "markdown",
   "metadata": {},
   "source": [
    "## Import statements"
   ]
  },
  {
   "cell_type": "code",
   "execution_count": 15,
   "metadata": {},
   "outputs": [],
   "source": [
    "import numpy as np"
   ]
  },
  {
   "cell_type": "code",
   "execution_count": 4,
   "metadata": {},
   "outputs": [],
   "source": [
    "import PIL            #import pillow to process images\n",
    "from PIL import Image # is this one even nessisary? posibbly remove"
   ]
  },
  {
   "cell_type": "markdown",
   "metadata": {},
   "source": [
    "## Experemental Additions"
   ]
  },
  {
   "cell_type": "markdown",
   "metadata": {},
   "source": [
    "These are set up for my eventual goal of making the process a definition and testing it with loops to see if the algorithm works for difrent images."
   ]
  },
  {
   "cell_type": "code",
   "execution_count": 18,
   "metadata": {},
   "outputs": [],
   "source": [
    "images = [\"square_basic.png\", \"square_basic_blue.png\"] # I hope to eventualy use this to make the bellow a \n",
    "                                                        #function to call in a loop for this array"
   ]
  },
  {
   "cell_type": "code",
   "execution_count": 25,
   "metadata": {},
   "outputs": [],
   "source": [
    "threshold = .9 #how much of a difrence there must be for the algorythm to consider it\n"
   ]
  },
  {
   "cell_type": "code",
   "execution_count": 29,
   "metadata": {},
   "outputs": [
    {
     "name": "stdout",
     "output_type": "stream",
     "text": [
      "range(0, 100, 10)\n"
     ]
    }
   ],
   "source": [
    "#experimental to create a range of thresholds to be able to check which is better\n",
    "thresholds = range(0, 100, 10) \n",
    "\n",
    "print(thresholds)"
   ]
  },
  {
   "cell_type": "markdown",
   "metadata": {},
   "source": [
    "Essentially here is the algorythm plan so far:\n",
    "    -import and succesfully store an image as an array of pixels\n",
    "        -properly understand how to interpret that array and its indices\n",
    "    -figure out exacly what type of loop needed/ # of itterations\n",
    "    -inside the loop:\n",
    "        -check if you get either of the 4 edge patterns\n",
    "    \n",
    "    ****figure out how to put these possitives and negatives together into something usefull!**************"
   ]
  },
  {
   "cell_type": "markdown",
   "metadata": {},
   "source": [
    "## Getting Pillow to work\n"
   ]
  },
  {
   "cell_type": "code",
   "execution_count": 30,
   "metadata": {},
   "outputs": [],
   "source": [
    "with Image.open(\"square_basic.png\") as im:\n",
    "    im.show() #to make sure the image selected is the correct image"
   ]
  },
  {
   "cell_type": "code",
   "execution_count": 31,
   "metadata": {},
   "outputs": [],
   "source": [
    "height = im.height\n",
    "width = im.width\n",
    "i_shape = im.size"
   ]
  },
  {
   "cell_type": "code",
   "execution_count": 32,
   "metadata": {},
   "outputs": [
    {
     "name": "stdout",
     "output_type": "stream",
     "text": [
      "height:\t 411\n",
      "width:\t 511\n",
      "shape:\t (511, 411)\n"
     ]
    }
   ],
   "source": [
    "#testors\n",
    "print(\"height:\\t\", height)\n",
    "print(\"width:\\t\", width)\n",
    "print(\"shape:\\t\", i_shape)"
   ]
  },
  {
   "cell_type": "code",
   "execution_count": 40,
   "metadata": {},
   "outputs": [],
   "source": [
    "orig_image = np.asarray(im)\n"
   ]
  },
  {
   "cell_type": "markdown",
   "metadata": {},
   "source": [
    "## testing if the conversion worked"
   ]
  },
  {
   "cell_type": "code",
   "execution_count": 45,
   "metadata": {},
   "outputs": [],
   "source": [
    "#print(orig_image) \n",
    "#print(\"does the shape match?\\t\", (im.size == orig_image.shape), \"\\norig_image.shape ==\", orig_image.shape)\n",
    "\n",
    "#test = Image.fromarray(orig_image)\n",
    "#test.show()"
   ]
  },
  {
   "cell_type": "code",
   "execution_count": null,
   "metadata": {},
   "outputs": [],
   "source": []
  },
  {
   "cell_type": "code",
   "execution_count": null,
   "metadata": {},
   "outputs": [],
   "source": []
  }
 ],
 "metadata": {
  "kernelspec": {
   "display_name": "Python 3",
   "language": "python",
   "name": "python3"
  },
  "language_info": {
   "codemirror_mode": {
    "name": "ipython",
    "version": 3
   },
   "file_extension": ".py",
   "mimetype": "text/x-python",
   "name": "python",
   "nbconvert_exporter": "python",
   "pygments_lexer": "ipython3",
   "version": "3.8.5"
  }
 },
 "nbformat": 4,
 "nbformat_minor": 4
}
