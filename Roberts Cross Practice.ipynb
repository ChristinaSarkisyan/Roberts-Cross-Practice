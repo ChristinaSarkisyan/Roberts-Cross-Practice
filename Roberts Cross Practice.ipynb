{
 "cells": [
  {
   "cell_type": "markdown",
   "metadata": {},
   "source": [
    "# Robert's Cross Practice\n",
    "\n",
    "Essentially I didn't master implementing this concept in class, so now I want to figure it out on my own terms."
   ]
  },
  {
   "cell_type": "markdown",
   "metadata": {},
   "source": [
    "## Let's make sure the working directory is correct:"
   ]
  },
  {
   "cell_type": "code",
   "execution_count": 1,
   "metadata": {},
   "outputs": [
    {
     "data": {
      "text/plain": [
       "'C:\\\\Users\\\\chris\\\\Desktop\\\\misc\\\\hobbyStuff\\\\Programs\\\\Robberts cross\\\\main'"
      ]
     },
     "execution_count": 1,
     "metadata": {},
     "output_type": "execute_result"
    }
   ],
   "source": [
    "pwd"
   ]
  },
  {
   "cell_type": "code",
   "execution_count": 2,
   "metadata": {},
   "outputs": [
    {
     "name": "stdout",
     "output_type": "stream",
     "text": [
      " Volume in drive C is Windows\n",
      " Volume Serial Number is F8FD-8A6F\n",
      "\n",
      " Directory of C:\\Users\\chris\\Desktop\\misc\\hobbyStuff\\Programs\\Robberts cross\\main\n",
      "\n",
      "05/20/2021  11:06 AM    <DIR>          .\n",
      "05/20/2021  11:06 AM    <DIR>          ..\n",
      "05/19/2021  01:19 PM    <DIR>          .ipynb_checkpoints\n",
      "05/20/2021  11:06 AM            11,303 Roberts Cross Practice.ipynb\n",
      "05/19/2021  01:12 PM             1,817 square_basic.png\n",
      "05/19/2021  02:20 PM             1,921 square_basic_blue.png\n",
      "               3 File(s)         15,041 bytes\n",
      "               3 Dir(s)  856,865,832,960 bytes free\n"
     ]
    }
   ],
   "source": [
    "ls"
   ]
  },
  {
   "cell_type": "markdown",
   "metadata": {},
   "source": [
    "## Import statements"
   ]
  },
  {
   "cell_type": "code",
   "execution_count": 1,
   "metadata": {},
   "outputs": [],
   "source": [
    "import numpy as np"
   ]
  },
  {
   "cell_type": "code",
   "execution_count": 2,
   "metadata": {},
   "outputs": [],
   "source": [
    "import PIL            #import pillow to process images\n",
    "from PIL import Image # is this one even nessisary? posibbly remove\n",
    "import math"
   ]
  },
  {
   "cell_type": "markdown",
   "metadata": {},
   "source": [
    "## Experemental Additions"
   ]
  },
  {
   "cell_type": "markdown",
   "metadata": {},
   "source": [
    "These are set up for my eventual goal of making the process a definition and testing it with loops to see if the algorithm works for difrent images."
   ]
  },
  {
   "cell_type": "code",
   "execution_count": 3,
   "metadata": {},
   "outputs": [],
   "source": [
    "images = [\"square_basic.png\", \"square_basic_blue.png\"] # I hope to eventualy use this to make the bellow a \n",
    "                                                        #function to call in a loop for this array"
   ]
  },
  {
   "cell_type": "code",
   "execution_count": 4,
   "metadata": {},
   "outputs": [],
   "source": [
    "threshold = .9 #how much of a difrence there must be for the algorythm to consider it\n"
   ]
  },
  {
   "cell_type": "code",
   "execution_count": 5,
   "metadata": {},
   "outputs": [
    {
     "name": "stdout",
     "output_type": "stream",
     "text": [
      "range(0, 100, 10)\n"
     ]
    }
   ],
   "source": [
    "#experimental to create a range of thresholds to be able to check which is better\n",
    "thresholds = range(0, 100, 10) \n",
    "\n",
    "print(thresholds)"
   ]
  },
  {
   "cell_type": "markdown",
   "metadata": {},
   "source": [
    "Essentially here is the algorythm plan so far:\n",
    "    -import and succesfully store an image as an array of pixels\n",
    "        -properly understand how to interpret that array and its indices\n",
    "    -figure out exacly what type of loop needed/ # of itterations\n",
    "    -inside the loop:\n",
    "        -check if you get either of the 4 edge patterns\n",
    "    \n",
    "    ****figure out how to put these possitives and negatives together into something usefull!**************"
   ]
  },
  {
   "cell_type": "markdown",
   "metadata": {},
   "source": [
    "## Getting Pillow to work\n"
   ]
  },
  {
   "cell_type": "code",
   "execution_count": 5,
   "metadata": {},
   "outputs": [],
   "source": [
    "with Image.open(images[1]) as im:    #is there a better way to do this?\n",
    "    im.show() #to make sure the image selected is the correct image"
   ]
  },
  {
   "cell_type": "code",
   "execution_count": 12,
   "metadata": {},
   "outputs": [],
   "source": [
    "im = im.convert('L') #makes it greyscale\n",
    "im = im.resize((round(im.size[0]*0.125), round(im.size[1]*0.125))) #make it smaller"
   ]
  },
  {
   "cell_type": "code",
   "execution_count": 13,
   "metadata": {},
   "outputs": [],
   "source": [
    "height = im.height\n",
    "width = im.width\n",
    "i_shape = im.size"
   ]
  },
  {
   "cell_type": "code",
   "execution_count": 14,
   "metadata": {},
   "outputs": [
    {
     "name": "stdout",
     "output_type": "stream",
     "text": [
      "height:\t 15\n",
      "width:\t 14\n",
      "shape:\t (14, 15)\n"
     ]
    }
   ],
   "source": [
    "#testors\n",
    "print(\"height:\\t\", height)\n",
    "print(\"width:\\t\", width)\n",
    "print(\"shape:\\t\", i_shape)"
   ]
  },
  {
   "cell_type": "code",
   "execution_count": 15,
   "metadata": {},
   "outputs": [],
   "source": [
    "orig_image = np.asarray(im)"
   ]
  },
  {
   "cell_type": "code",
   "execution_count": 21,
   "metadata": {},
   "outputs": [],
   "source": [
    "edges_only = np.zeros((height, width))"
   ]
  },
  {
   "cell_type": "markdown",
   "metadata": {},
   "source": [
    "## testing if the conversion worked"
   ]
  },
  {
   "cell_type": "code",
   "execution_count": 22,
   "metadata": {},
   "outputs": [
    {
     "name": "stdout",
     "output_type": "stream",
     "text": [
      "does the shape match?\t \n",
      "im.size == 15   14 \n",
      "orig_image.shape == (15, 14)\n"
     ]
    }
   ],
   "source": [
    "#print(orig_image) \n",
    "print(\"does the shape match?\\t\", \"\\nim.size ==\",  height,\" \" , width, \"\\norig_image.shape ==\", orig_image.shape)\n",
    "\n",
    "test = Image.fromarray(orig_image)\n",
    "test.show() #image should be in greyscale and much smaller now"
   ]
  },
  {
   "cell_type": "markdown",
   "metadata": {},
   "source": [
    "## now the loop to cycle through the array"
   ]
  },
  {
   "cell_type": "code",
   "execution_count": 23,
   "metadata": {},
   "outputs": [
    {
     "name": "stdout",
     "output_type": "stream",
     "text": [
      "[[255 255 255 255 255 255 255 255 255 255 255 255 255 255]\n",
      " [255 255 255 255 255 255 255 255 255 255 255 255 255 255]\n",
      " [255 255 255 255 255 255 255 255 255 255 255 255 255 255]\n",
      " [255 237 225 228 228 228 228 228 228 228 227 227 254 255]\n",
      " [255 228 247 252 252 252 252 252 252 252 252 227 250 255]\n",
      " [255 230 250 255 255 255 255 255 255 255 255 230 250 255]\n",
      " [255 230 250 255 255 255 255 255 255 255 255 230 250 255]\n",
      " [255 230 250 255 255 255 255 255 255 255 255 230 250 255]\n",
      " [255 230 250 255 255 255 255 255 255 255 255 230 250 255]\n",
      " [255 230 250 255 255 255 255 255 255 255 255 230 250 255]\n",
      " [255 230 251 255 255 255 255 255 255 255 255 230 250 255]\n",
      " [255 228 243 249 249 249 249 249 249 249 248 225 250 255]\n",
      " [255 241 228 230 230 230 230 230 230 230 230 231 254 255]\n",
      " [255 255 255 255 255 255 255 255 255 255 255 255 255 255]\n",
      " [255 255 255 255 255 255 255 255 255 255 255 255 255 255]]\n",
      "(15, 14)\n",
      "[[0. 0. 0. 0. 0. 0. 0. 0. 0. 0. 0. 0. 0. 0.]\n",
      " [0. 0. 0. 0. 0. 0. 0. 0. 0. 0. 0. 0. 0. 0.]\n",
      " [0. 0. 0. 0. 0. 0. 0. 0. 0. 0. 0. 0. 0. 0.]\n",
      " [0. 0. 0. 0. 0. 0. 0. 0. 0. 0. 0. 0. 0. 0.]\n",
      " [0. 0. 0. 0. 0. 0. 0. 0. 0. 0. 0. 0. 0. 0.]\n",
      " [0. 0. 0. 0. 0. 0. 0. 0. 0. 0. 0. 0. 0. 0.]\n",
      " [0. 0. 0. 0. 0. 0. 0. 0. 0. 0. 0. 0. 0. 0.]\n",
      " [0. 0. 0. 0. 0. 0. 0. 0. 0. 0. 0. 0. 0. 0.]\n",
      " [0. 0. 0. 0. 0. 0. 0. 0. 0. 0. 0. 0. 0. 0.]\n",
      " [0. 0. 0. 0. 0. 0. 0. 0. 0. 0. 0. 0. 0. 0.]\n",
      " [0. 0. 0. 0. 0. 0. 0. 0. 0. 0. 0. 0. 0. 0.]\n",
      " [0. 0. 0. 0. 0. 0. 0. 0. 0. 0. 0. 0. 0. 0.]\n",
      " [0. 0. 0. 0. 0. 0. 0. 0. 0. 0. 0. 0. 0. 0.]\n",
      " [0. 0. 0. 0. 0. 0. 0. 0. 0. 0. 0. 0. 0. 0.]\n",
      " [0. 0. 0. 0. 0. 0. 0. 0. 0. 0. 0. 0. 0. 0.]]\n",
      "(15, 14)\n"
     ]
    }
   ],
   "source": [
    "print(orig_image)\n",
    "print(orig_image.shape)\n",
    "\n",
    "print(edges_only)\n",
    "print(edges_only.shape)"
   ]
  },
  {
   "cell_type": "code",
   "execution_count": 24,
   "metadata": {},
   "outputs": [
    {
     "name": "stdout",
     "output_type": "stream",
     "text": [
      "13\n",
      "14\n"
     ]
    }
   ],
   "source": [
    "print(width - 1)\n",
    "print(height - 1)"
   ]
  },
  {
   "cell_type": "code",
   "execution_count": 25,
   "metadata": {},
   "outputs": [
    {
     "name": "stdout",
     "output_type": "stream",
     "text": [
      "0\n",
      "0\n",
      "0\n",
      "0\n",
      "0\n",
      "0\n",
      "0\n",
      "0\n",
      "0\n",
      "0\n",
      "0\n",
      "0\n",
      "0\n",
      "0\n",
      "0\n",
      "0\n",
      "0\n",
      "0\n",
      "0\n",
      "0\n",
      "0\n",
      "0\n",
      "0\n",
      "0\n",
      "0\n",
      "0\n",
      "1\n",
      "2\n",
      "3\n",
      "4\n",
      "5\n",
      "6\n",
      "7\n",
      "8\n",
      "9\n",
      "10\n",
      "11\n",
      "12\n",
      "13\n",
      "14\n",
      "15\n",
      "16\n",
      "17\n",
      "18\n",
      "19\n",
      "20\n",
      "21\n",
      "22\n",
      "23\n",
      "24\n",
      "25\n",
      "26\n",
      "27\n",
      "28\n",
      "29\n",
      "30\n",
      "31\n",
      "32\n",
      "33\n",
      "34\n",
      "35\n",
      "36\n",
      "37\n",
      "38\n",
      "39\n",
      "40\n",
      "41\n",
      "42\n",
      "42\n",
      "42\n",
      "42\n",
      "42\n",
      "42\n",
      "42\n",
      "42\n",
      "43\n",
      "44\n",
      "45\n",
      "46\n",
      "47\n",
      "48\n",
      "48\n",
      "48\n",
      "48\n",
      "48\n",
      "48\n",
      "48\n",
      "48\n",
      "49\n",
      "50\n",
      "51\n",
      "52\n",
      "53\n",
      "54\n",
      "54\n",
      "54\n",
      "54\n",
      "54\n",
      "54\n",
      "54\n",
      "54\n",
      "55\n",
      "56\n",
      "57\n",
      "58\n",
      "59\n",
      "60\n",
      "60\n",
      "60\n",
      "60\n",
      "60\n",
      "60\n",
      "60\n",
      "60\n",
      "61\n",
      "62\n",
      "63\n",
      "64\n",
      "65\n",
      "66\n",
      "66\n",
      "66\n",
      "66\n",
      "66\n",
      "66\n",
      "66\n",
      "66\n",
      "67\n",
      "68\n",
      "69\n",
      "70\n",
      "71\n",
      "72\n",
      "73\n",
      "74\n",
      "75\n",
      "76\n",
      "77\n",
      "78\n",
      "79\n",
      "80\n",
      "81\n",
      "82\n",
      "83\n",
      "84\n",
      "85\n",
      "86\n",
      "87\n",
      "88\n",
      "89\n",
      "90\n",
      "91\n",
      "92\n",
      "93\n",
      "94\n",
      "95\n",
      "96\n",
      "97\n",
      "98\n",
      "99\n",
      "100\n",
      "101\n",
      "102\n",
      "103\n",
      "104\n",
      "105\n",
      "106\n",
      "107\n",
      "108\n",
      "108\n",
      "108\n",
      "108\n",
      "108\n",
      "108\n",
      "108\n",
      "108\n",
      "108\n",
      "108\n",
      "108\n",
      "108\n",
      "108\n",
      "108\n"
     ]
    },
    {
     "name": "stderr",
     "output_type": "stream",
     "text": [
      "<ipython-input-25-16d4aae463e9>:19: RuntimeWarning: overflow encountered in ubyte_scalars\n",
      "  ratio = np.sqrt((patch[0] - patch[3])**2 + (patch[1] - patch[2])**2)\n"
     ]
    }
   ],
   "source": [
    "count = 0\n",
    "#this is causing an index out of bounds error -- figure out why\n",
    "for i in range(height - 1):\n",
    "    for j in range(width -1):\n",
    "        #print(\"i, j: \", i, \" \", j)\n",
    "        \n",
    "        patch = []\n",
    "        patch.append(orig_image[i, j]) #grabs the image patch (4 pixels)   #find a better way to do this\n",
    "        patch.append(orig_image[i+1, j])\n",
    "        patch.append(orig_image[i, j+1])\n",
    "        patch.append(orig_image[i+1, j+1])\n",
    "        \n",
    "        \n",
    "        ##patch = orig_image[i:i+1, j: j+1] #grabs the image patch (4 pixels)\n",
    "       # print(patch.shape)\n",
    "       # print(\"patch\\n\", patch, \"\\n\\n\")              #why is it comming out in such a weird format? which index is which?\n",
    "        \n",
    "        \n",
    "        ratio = np.sqrt((patch[0] - patch[3])**2 + (patch[1] - patch[2])**2)\n",
    "        \n",
    "        #print(ratio)\n",
    "        \n",
    "        #if ratio != 0.0: count+=1\n",
    "        if ratio >= threshold: count+=1\n",
    "        print(count)\n",
    "        edges_only[i,j] = ratio\n"
   ]
  },
  {
   "cell_type": "code",
   "execution_count": 26,
   "metadata": {},
   "outputs": [
    {
     "name": "stdout",
     "output_type": "stream",
     "text": [
      "[[  0.           0.           0.           0.           0.\n",
      "    0.           0.           0.           0.           0.\n",
      "    0.           0.           0.           0.        ]\n",
      " [  0.           0.           0.           0.           0.\n",
      "    0.           0.           0.           0.           0.\n",
      "    0.           0.           0.           0.        ]\n",
      " [ 18.         239.88330496 227.60711764 230.58620947 230.58620947\n",
      "  230.58620947 230.58620947 230.58620947 230.58620947 230.7054399\n",
      "  229.71286425 228.00219297 255.           0.        ]\n",
      " [ 32.44996148 246.018292   229.78685776 233.23807579 233.23807579\n",
      "  233.23807579 233.23807579 233.23807579 233.23807579 233.34309503\n",
      "   25.         326.69557695 357.80721066   0.        ]\n",
      " [ 36.79673899 334.48019373 354.99295768 253.01778594 253.01778594\n",
      "  253.01778594 253.01778594 253.01778594 253.01778594 253.01778594\n",
      "   35.60898763 331.63986491 354.96760416   0.        ]\n",
      " [ 35.35533906 333.75440072 354.96760416   0.           0.\n",
      "    0.           0.           0.           0.           0.\n",
      "   35.35533906 333.75440072 354.96760416   0.        ]\n",
      " [ 35.35533906 333.75440072 354.96760416   0.           0.\n",
      "    0.           0.           0.           0.           0.\n",
      "   35.35533906 333.75440072 354.96760416   0.        ]\n",
      " [ 35.35533906 333.75440072 354.96760416   0.           0.\n",
      "    0.           0.           0.           0.           0.\n",
      "   35.35533906 333.75440072 354.96760416   0.        ]\n",
      " [ 35.35533906 333.75440072 354.96760416   0.           0.\n",
      "    0.           0.           0.           0.           0.\n",
      "   35.35533906 333.75440072 354.96760416   0.        ]\n",
      " [ 35.35533906 333.04804458 355.67541383   0.           0.\n",
      "    0.           0.           0.           0.           0.\n",
      "   35.35533906 333.75440072 354.96760416   0.        ]\n",
      " [ 36.79673899 336.65709557 244.00819658 250.07198963 250.07198963\n",
      "  250.07198963 250.07198963 250.07198963 250.07198963 250.0979808\n",
      "   34.98571137 330.23779311 354.96760416   0.        ]\n",
      " [ 30.41381265 254.         235.3592998  237.76038358 237.76038358\n",
      "  237.76038358 237.76038358 237.76038358 237.76038358 238.75719884\n",
      "   17.72004515 328.17373448 357.80721066   0.        ]\n",
      " [ 14.         243.50154004 230.36058691 232.34887562 232.34887562\n",
      "  232.34887562 232.34887562 232.34887562 232.34887562 232.34887562\n",
      "  232.2434068  232.00215516 255.           0.        ]\n",
      " [  0.           0.           0.           0.           0.\n",
      "    0.           0.           0.           0.           0.\n",
      "    0.           0.           0.           0.        ]\n",
      " [  0.           0.           0.           0.           0.\n",
      "    0.           0.           0.           0.           0.\n",
      "    0.           0.           0.           0.        ]]\n"
     ]
    }
   ],
   "source": [
    "print(edges_only)\n",
    "\n",
    "test = Image.fromarray(edges_only)\n",
    "test.show()"
   ]
  },
  {
   "cell_type": "code",
   "execution_count": null,
   "metadata": {},
   "outputs": [],
   "source": []
  },
  {
   "cell_type": "code",
   "execution_count": null,
   "metadata": {},
   "outputs": [],
   "source": []
  },
  {
   "cell_type": "code",
   "execution_count": null,
   "metadata": {},
   "outputs": [],
   "source": []
  }
 ],
 "metadata": {
  "kernelspec": {
   "display_name": "Python 3",
   "language": "python",
   "name": "python3"
  },
  "language_info": {
   "codemirror_mode": {
    "name": "ipython",
    "version": 3
   },
   "file_extension": ".py",
   "mimetype": "text/x-python",
   "name": "python",
   "nbconvert_exporter": "python",
   "pygments_lexer": "ipython3",
   "version": "3.8.5"
  }
 },
 "nbformat": 4,
 "nbformat_minor": 4
}
