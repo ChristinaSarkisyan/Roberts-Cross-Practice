{
 "cells": [
  {
   "cell_type": "markdown",
   "metadata": {},
   "source": [
    "# Robert's Cross Practice\n",
    "\n",
    "Essentially I didn't master implementing this concept in class, so now I want to figure it out on my own terms."
   ]
  },
  {
   "cell_type": "markdown",
   "metadata": {},
   "source": [
    "## Let's make sure the working directory is correct:"
   ]
  },
  {
   "cell_type": "code",
   "execution_count": 1,
   "metadata": {},
   "outputs": [
    {
     "data": {
      "text/plain": [
       "'C:\\\\Users\\\\chris\\\\Desktop\\\\misc\\\\hobbyStuff\\\\Programs\\\\Robberts cross\\\\main'"
      ]
     },
     "execution_count": 1,
     "metadata": {},
     "output_type": "execute_result"
    }
   ],
   "source": [
    "pwd"
   ]
  },
  {
   "cell_type": "code",
   "execution_count": 2,
   "metadata": {},
   "outputs": [
    {
     "name": "stdout",
     "output_type": "stream",
     "text": [
      " Volume in drive C is Windows\n",
      " Volume Serial Number is F8FD-8A6F\n",
      "\n",
      " Directory of C:\\Users\\chris\\Desktop\\misc\\hobbyStuff\\Programs\\Robberts cross\\main\n",
      "\n",
      "05/20/2021  01:47 PM    <DIR>          .\n",
      "05/20/2021  01:47 PM    <DIR>          ..\n",
      "05/19/2021  01:19 PM    <DIR>          .ipynb_checkpoints\n",
      "05/20/2021  01:47 PM             1,686 circle_basic_blue.png\n",
      "05/20/2021  12:46 PM           208,234 Roberts Cross Practice.ipynb\n",
      "05/19/2021  01:12 PM             1,817 square_basic.png\n",
      "05/19/2021  02:20 PM             1,921 square_basic_blue.png\n",
      "               4 File(s)        213,658 bytes\n",
      "               3 Dir(s)  856,519,708,672 bytes free\n"
     ]
    }
   ],
   "source": [
    "ls"
   ]
  },
  {
   "cell_type": "markdown",
   "metadata": {},
   "source": [
    "## Import statements"
   ]
  },
  {
   "cell_type": "code",
   "execution_count": 10,
   "metadata": {},
   "outputs": [],
   "source": [
    "import numpy as np"
   ]
  },
  {
   "cell_type": "code",
   "execution_count": 11,
   "metadata": {},
   "outputs": [],
   "source": [
    "import PIL            #import pillow to process images\n",
    "from PIL import Image # is this one even nessisary? posibbly remove\n",
    "import math"
   ]
  },
  {
   "cell_type": "markdown",
   "metadata": {},
   "source": [
    "## Experemental Additions"
   ]
  },
  {
   "cell_type": "markdown",
   "metadata": {},
   "source": [
    "These are set up for my eventual goal of making the process a definition and testing it with loops to see if the algorithm works for difrent images."
   ]
  },
  {
   "cell_type": "code",
   "execution_count": 12,
   "metadata": {},
   "outputs": [],
   "source": [
    "images = [\"square_basic.png\", \"square_basic_blue.png\", \"circle_basic_blue.png\"] # I hope to eventualy use this to make the bellow a \n",
    "                                                        #function to call in a loop for this array"
   ]
  },
  {
   "cell_type": "code",
   "execution_count": 13,
   "metadata": {},
   "outputs": [],
   "source": [
    "threshold = .9 #how much of a difrence there must be for the algorythm to consider it\n"
   ]
  },
  {
   "cell_type": "code",
   "execution_count": 14,
   "metadata": {},
   "outputs": [
    {
     "name": "stdout",
     "output_type": "stream",
     "text": [
      "range(0, 100, 10)\n"
     ]
    }
   ],
   "source": [
    "#experimental to create a range of thresholds to be able to check which is better\n",
    "thresholds = range(0, 100, 10) \n",
    "\n",
    "print(thresholds)"
   ]
  },
  {
   "cell_type": "markdown",
   "metadata": {},
   "source": [
    "Essentially here is the algorythm plan so far:\n",
    "    -import and succesfully store an image as an array of pixels\n",
    "        -properly understand how to interpret that array and its indices\n",
    "    -figure out exacly what type of loop needed/ # of itterations\n",
    "    -inside the loop:\n",
    "        -check if you get either of the 4 edge patterns\n",
    "    \n",
    "    ****figure out how to put these possitives and negatives together into something usefull!**************"
   ]
  },
  {
   "cell_type": "markdown",
   "metadata": {},
   "source": [
    "## Getting Pillow to work\n"
   ]
  },
  {
   "cell_type": "code",
   "execution_count": 15,
   "metadata": {},
   "outputs": [],
   "source": [
    "with Image.open(images[1]) as im:    #is there a better way to do this?\n",
    "    im.show() #to make sure the image selected is the correct image"
   ]
  },
  {
   "cell_type": "code",
   "execution_count": 16,
   "metadata": {},
   "outputs": [],
   "source": [
    "im = im.convert('L') #makes it greyscale\n",
    "im = im.resize((round(im.size[0]*0.25), round(im.size[1]*0.25))) #make it smaller"
   ]
  },
  {
   "cell_type": "code",
   "execution_count": 17,
   "metadata": {},
   "outputs": [],
   "source": [
    "height = im.height\n",
    "width = im.width\n",
    "i_shape = im.size"
   ]
  },
  {
   "cell_type": "code",
   "execution_count": 18,
   "metadata": {},
   "outputs": [
    {
     "name": "stdout",
     "output_type": "stream",
     "text": [
      "height:\t 120\n",
      "width:\t 115\n",
      "shape:\t (115, 120)\n"
     ]
    }
   ],
   "source": [
    "#testors\n",
    "print(\"height:\\t\", height)\n",
    "print(\"width:\\t\", width)\n",
    "print(\"shape:\\t\", i_shape)"
   ]
  },
  {
   "cell_type": "code",
   "execution_count": 19,
   "metadata": {},
   "outputs": [],
   "source": [
    "orig_image = np.asarray(im)"
   ]
  },
  {
   "cell_type": "code",
   "execution_count": 20,
   "metadata": {},
   "outputs": [],
   "source": [
    "edges_only = np.zeros((height, width))"
   ]
  },
  {
   "cell_type": "markdown",
   "metadata": {},
   "source": [
    "## testing if the conversion worked"
   ]
  },
  {
   "cell_type": "code",
   "execution_count": 21,
   "metadata": {},
   "outputs": [
    {
     "name": "stdout",
     "output_type": "stream",
     "text": [
      "does the shape match?\t \n",
      "im.size == 120   115 \n",
      "orig_image.shape == (120, 115)\n"
     ]
    }
   ],
   "source": [
    "#print(orig_image) \n",
    "print(\"does the shape match?\\t\", \"\\nim.size ==\",  height,\" \" , width, \"\\norig_image.shape ==\", orig_image.shape)\n",
    "\n",
    "test = Image.fromarray(orig_image)\n",
    "test.show() #image should be in greyscale and much smaller now"
   ]
  },
  {
   "cell_type": "markdown",
   "metadata": {},
   "source": [
    "## now the loop to cycle through the array"
   ]
  },
  {
   "cell_type": "markdown",
   "metadata": {},
   "source": [
    "let's double check that the arrays are correct before cycling through them"
   ]
  },
  {
   "cell_type": "code",
   "execution_count": 30,
   "metadata": {},
   "outputs": [
    {
     "name": "stdout",
     "output_type": "stream",
     "text": [
      "[[255 255 255 ... 255 255 255]\n",
      " [255 255 255 ... 255 255 255]\n",
      " [255 255 255 ... 255 255 255]\n",
      " ...\n",
      " [255 255 255 ... 255 255 255]\n",
      " [255 255 255 ... 255 255 255]\n",
      " [255 255 255 ... 255 255 255]]\n",
      "(120, 115)\n",
      "[[0. 0. 0. ... 0. 0. 0.]\n",
      " [0. 0. 0. ... 0. 0. 0.]\n",
      " [0. 0. 0. ... 0. 0. 0.]\n",
      " ...\n",
      " [0. 0. 0. ... 0. 0. 0.]\n",
      " [0. 0. 0. ... 0. 0. 0.]\n",
      " [0. 0. 0. ... 0. 0. 0.]]\n",
      "(120, 115)\n"
     ]
    }
   ],
   "source": [
    "print(orig_image)\n",
    "print(orig_image.shape)\n",
    "\n",
    "print(edges_only)\n",
    "print(edges_only.shape)"
   ]
  },
  {
   "cell_type": "code",
   "execution_count": 31,
   "metadata": {},
   "outputs": [
    {
     "name": "stdout",
     "output_type": "stream",
     "text": [
      "114\n",
      "119\n"
     ]
    }
   ],
   "source": [
    "print(width - 1)\n",
    "print(height - 1)"
   ]
  },
  {
   "cell_type": "markdown",
   "metadata": {},
   "source": [
    "Now let's do the loop"
   ]
  },
  {
   "cell_type": "code",
   "execution_count": 32,
   "metadata": {},
   "outputs": [
    {
     "name": "stderr",
     "output_type": "stream",
     "text": [
      "<ipython-input-32-5af74fa231ff>:13: RuntimeWarning: overflow encountered in ubyte_scalars\n",
      "  ratio = np.sqrt((patch[0] - patch[3])**2 + (patch[1] - patch[2])**2)\n"
     ]
    }
   ],
   "source": [
    "count = 0\n",
    "#this is causing an index out of bounds error -- figure out why\n",
    "for i in range(height - 1):\n",
    "    for j in range(width -1):\n",
    "        #print(\"i, j: \", i, \" \", j)\n",
    "        \n",
    "        patch = []\n",
    "        patch.append(orig_image[i, j])       #grabs the image patch (4 pixels)   #find a better way to do this\n",
    "        patch.append(orig_image[i+1, j])\n",
    "        patch.append(orig_image[i, j+1])\n",
    "        patch.append(orig_image[i+1, j+1])\n",
    "            \n",
    "        ratio = np.sqrt((patch[0] - patch[3])**2 + (patch[1] - patch[2])**2)\n",
    "        \n",
    "        #print(ratio)\n",
    "        \n",
    "        #if ratio >= threshold: count+=1\n",
    "        #print(count)\n",
    "        edges_only[i,j] = ratio\n"
   ]
  },
  {
   "cell_type": "markdown",
   "metadata": {},
   "source": [
    "Now let's make sure it worked:"
   ]
  },
  {
   "cell_type": "code",
   "execution_count": 34,
   "metadata": {},
   "outputs": [],
   "source": [
    "#print(edges_only)\n",
    "\n",
    "test = Image.fromarray(edges_only)\n",
    "test.show()"
   ]
  },
  {
   "cell_type": "markdown",
   "metadata": {},
   "source": [
    "now that we have the edges, let's isolate them"
   ]
  },
  {
   "cell_type": "code",
   "execution_count": 36,
   "metadata": {},
   "outputs": [],
   "source": [
    "good_edges = []\n",
    "for i in range(height - 1):\n",
    "    for j in range(width -1):\n",
    "        if edges_only[i, j] >= threshold: good_edges.append([i, j]) #let's fix this later to use dataframes instead"
   ]
  },
  {
   "cell_type": "code",
   "execution_count": 37,
   "metadata": {},
   "outputs": [
    {
     "name": "stdout",
     "output_type": "stream",
     "text": [
      "[[27, 12], [27, 13], [27, 14], [27, 15], [27, 16], [27, 17], [27, 18], [27, 19], [27, 20], [27, 21], [27, 22], [27, 23], [27, 24], [27, 25], [27, 26], [27, 27], [27, 28], [27, 29], [27, 30], [27, 31], [27, 32], [27, 33], [27, 34], [27, 35], [27, 36], [27, 37], [27, 38], [27, 39], [27, 40], [27, 41], [27, 42], [27, 43], [27, 44], [27, 45], [27, 46], [27, 47], [27, 48], [27, 49], [27, 50], [27, 51], [27, 52], [27, 53], [27, 54], [27, 55], [27, 56], [27, 57], [27, 58], [27, 59], [27, 60], [27, 61], [27, 62], [27, 63], [27, 64], [27, 65], [27, 66], [27, 67], [27, 68], [27, 69], [27, 70], [27, 71], [27, 72], [27, 73], [27, 74], [27, 75], [27, 76], [27, 77], [27, 78], [27, 79], [27, 80], [27, 81], [27, 82], [27, 83], [27, 84], [27, 85], [27, 86], [27, 87], [27, 88], [27, 89], [27, 90], [27, 91], [27, 92], [27, 93], [27, 94], [27, 95], [27, 96], [28, 12], [28, 13], [28, 14], [28, 15], [28, 16], [28, 17], [28, 18], [28, 19], [28, 20], [28, 21], [28, 22], [28, 23], [28, 24], [28, 25], [28, 26], [28, 27], [28, 28], [28, 29], [28, 30], [28, 31], [28, 32], [28, 33], [28, 34], [28, 35], [28, 36], [28, 37], [28, 38], [28, 39], [28, 40], [28, 41], [28, 42], [28, 43], [28, 44], [28, 45], [28, 46], [28, 47], [28, 48], [28, 49], [28, 50], [28, 51], [28, 52], [28, 53], [28, 54], [28, 55], [28, 56], [28, 57], [28, 58], [28, 59], [28, 60], [28, 61], [28, 62], [28, 63], [28, 64], [28, 65], [28, 66], [28, 67], [28, 68], [28, 69], [28, 70], [28, 71], [28, 72], [28, 73], [28, 74], [28, 75], [28, 76], [28, 77], [28, 78], [28, 79], [28, 80], [28, 81], [28, 82], [28, 83], [28, 84], [28, 85], [28, 86], [28, 87], [28, 88], [28, 89], [28, 90], [28, 91], [28, 92], [28, 93], [28, 94], [28, 95], [28, 96], [29, 12], [29, 13], [29, 14], [29, 15], [29, 16], [29, 17], [29, 18], [29, 19], [29, 20], [29, 21], [29, 22], [29, 23], [29, 24], [29, 25], [29, 26], [29, 27], [29, 28], [29, 29], [29, 30], [29, 31], [29, 32], [29, 33], [29, 34], [29, 35], [29, 36], [29, 37], [29, 38], [29, 39], [29, 40], [29, 41], [29, 42], [29, 43], [29, 44], [29, 45], [29, 46], [29, 47], [29, 48], [29, 49], [29, 50], [29, 51], [29, 52], [29, 53], [29, 54], [29, 55], [29, 56], [29, 57], [29, 58], [29, 59], [29, 60], [29, 61], [29, 62], [29, 63], [29, 64], [29, 65], [29, 66], [29, 67], [29, 68], [29, 69], [29, 70], [29, 71], [29, 72], [29, 73], [29, 74], [29, 75], [29, 76], [29, 77], [29, 78], [29, 79], [29, 80], [29, 81], [29, 82], [29, 83], [29, 84], [29, 85], [29, 86], [29, 87], [29, 88], [29, 89], [29, 90], [29, 91], [29, 92], [29, 93], [29, 94], [29, 95], [29, 96], [30, 12], [30, 13], [30, 14], [30, 94], [30, 95], [30, 96], [31, 12], [31, 13], [31, 14], [31, 94], [31, 95], [31, 96], [32, 12], [32, 13], [32, 14], [32, 94], [32, 95], [32, 96], [33, 12], [33, 13], [33, 14], [33, 94], [33, 95], [33, 96], [34, 12], [34, 13], [34, 14], [34, 94], [34, 95], [34, 96], [35, 12], [35, 13], [35, 14], [35, 94], [35, 95], [35, 96], [36, 12], [36, 13], [36, 14], [36, 94], [36, 95], [36, 96], [37, 12], [37, 13], [37, 14], [37, 94], [37, 95], [37, 96], [38, 12], [38, 13], [38, 14], [38, 94], [38, 95], [38, 96], [39, 12], [39, 13], [39, 14], [39, 94], [39, 95], [39, 96], [40, 12], [40, 13], [40, 14], [40, 94], [40, 95], [40, 96], [41, 12], [41, 13], [41, 14], [41, 94], [41, 95], [41, 96], [42, 12], [42, 13], [42, 14], [42, 94], [42, 95], [42, 96], [43, 12], [43, 13], [43, 14], [43, 94], [43, 95], [43, 96], [44, 12], [44, 13], [44, 14], [44, 94], [44, 95], [44, 96], [45, 12], [45, 13], [45, 14], [45, 94], [45, 95], [45, 96], [46, 12], [46, 13], [46, 14], [46, 94], [46, 95], [46, 96], [47, 12], [47, 13], [47, 14], [47, 94], [47, 95], [47, 96], [48, 12], [48, 13], [48, 14], [48, 94], [48, 95], [48, 96], [49, 12], [49, 13], [49, 14], [49, 94], [49, 95], [49, 96], [50, 12], [50, 13], [50, 14], [50, 94], [50, 95], [50, 96], [51, 12], [51, 13], [51, 14], [51, 94], [51, 95], [51, 96], [52, 12], [52, 13], [52, 14], [52, 94], [52, 95], [52, 96], [53, 12], [53, 13], [53, 14], [53, 94], [53, 95], [53, 96], [54, 12], [54, 13], [54, 14], [54, 94], [54, 95], [54, 96], [55, 12], [55, 13], [55, 14], [55, 94], [55, 95], [55, 96], [56, 12], [56, 13], [56, 14], [56, 94], [56, 95], [56, 96], [57, 12], [57, 13], [57, 14], [57, 94], [57, 95], [57, 96], [58, 12], [58, 13], [58, 14], [58, 94], [58, 95], [58, 96], [59, 12], [59, 13], [59, 14], [59, 94], [59, 95], [59, 96], [60, 12], [60, 13], [60, 14], [60, 94], [60, 95], [60, 96], [61, 12], [61, 13], [61, 14], [61, 94], [61, 95], [61, 96], [62, 12], [62, 13], [62, 14], [62, 94], [62, 95], [62, 96], [63, 12], [63, 13], [63, 14], [63, 94], [63, 95], [63, 96], [64, 12], [64, 13], [64, 14], [64, 94], [64, 95], [64, 96], [65, 12], [65, 13], [65, 14], [65, 94], [65, 95], [65, 96], [66, 12], [66, 13], [66, 14], [66, 94], [66, 95], [66, 96], [67, 12], [67, 13], [67, 14], [67, 94], [67, 95], [67, 96], [68, 12], [68, 13], [68, 14], [68, 94], [68, 95], [68, 96], [69, 12], [69, 13], [69, 14], [69, 94], [69, 95], [69, 96], [70, 12], [70, 13], [70, 14], [70, 94], [70, 95], [70, 96], [71, 12], [71, 13], [71, 14], [71, 94], [71, 95], [71, 96], [72, 12], [72, 13], [72, 14], [72, 94], [72, 95], [72, 96], [73, 12], [73, 13], [73, 14], [73, 94], [73, 95], [73, 96], [74, 12], [74, 13], [74, 14], [74, 94], [74, 95], [74, 96], [75, 12], [75, 13], [75, 14], [75, 94], [75, 95], [75, 96], [76, 12], [76, 13], [76, 14], [76, 94], [76, 95], [76, 96], [77, 12], [77, 13], [77, 14], [77, 94], [77, 95], [77, 96], [78, 12], [78, 13], [78, 14], [78, 94], [78, 95], [78, 96], [79, 12], [79, 13], [79, 14], [79, 94], [79, 95], [79, 96], [80, 12], [80, 13], [80, 14], [80, 94], [80, 95], [80, 96], [81, 12], [81, 13], [81, 14], [81, 94], [81, 95], [81, 96], [82, 12], [82, 13], [82, 14], [82, 94], [82, 95], [82, 96], [83, 12], [83, 13], [83, 14], [83, 94], [83, 95], [83, 96], [84, 12], [84, 13], [84, 14], [84, 94], [84, 95], [84, 96], [85, 12], [85, 13], [85, 14], [85, 94], [85, 95], [85, 96], [86, 12], [86, 13], [86, 14], [86, 94], [86, 95], [86, 96], [87, 12], [87, 13], [87, 14], [87, 94], [87, 95], [87, 96], [88, 12], [88, 13], [88, 14], [88, 94], [88, 95], [88, 96], [89, 12], [89, 13], [89, 14], [89, 94], [89, 95], [89, 96], [90, 12], [90, 13], [90, 14], [90, 94], [90, 95], [90, 96], [91, 12], [91, 13], [91, 14], [91, 94], [91, 95], [91, 96], [92, 12], [92, 13], [92, 14], [92, 94], [92, 95], [92, 96], [93, 12], [93, 13], [93, 14], [93, 94], [93, 95], [93, 96], [94, 12], [94, 13], [94, 14], [94, 94], [94, 95], [94, 96], [95, 12], [95, 13], [95, 14], [95, 94], [95, 95], [95, 96], [96, 12], [96, 13], [96, 14], [96, 15], [96, 16], [96, 17], [96, 18], [96, 19], [96, 20], [96, 21], [96, 22], [96, 23], [96, 24], [96, 25], [96, 26], [96, 27], [96, 28], [96, 29], [96, 30], [96, 31], [96, 32], [96, 33], [96, 34], [96, 35], [96, 36], [96, 37], [96, 38], [96, 39], [96, 40], [96, 41], [96, 42], [96, 43], [96, 44], [96, 45], [96, 46], [96, 47], [96, 48], [96, 49], [96, 50], [96, 51], [96, 52], [96, 53], [96, 54], [96, 55], [96, 56], [96, 57], [96, 58], [96, 59], [96, 60], [96, 61], [96, 62], [96, 63], [96, 64], [96, 65], [96, 66], [96, 67], [96, 68], [96, 69], [96, 70], [96, 71], [96, 72], [96, 73], [96, 74], [96, 75], [96, 76], [96, 77], [96, 78], [96, 79], [96, 80], [96, 81], [96, 82], [96, 83], [96, 84], [96, 85], [96, 86], [96, 87], [96, 88], [96, 89], [96, 90], [96, 91], [96, 92], [96, 93], [96, 94], [96, 95], [96, 96], [97, 12], [97, 13], [97, 14], [97, 15], [97, 16], [97, 17], [97, 18], [97, 19], [97, 20], [97, 21], [97, 22], [97, 23], [97, 24], [97, 25], [97, 26], [97, 27], [97, 28], [97, 29], [97, 30], [97, 31], [97, 32], [97, 33], [97, 34], [97, 35], [97, 36], [97, 37], [97, 38], [97, 39], [97, 40], [97, 41], [97, 42], [97, 43], [97, 44], [97, 45], [97, 46], [97, 47], [97, 48], [97, 49], [97, 50], [97, 51], [97, 52], [97, 53], [97, 54], [97, 55], [97, 56], [97, 57], [97, 58], [97, 59], [97, 60], [97, 61], [97, 62], [97, 63], [97, 64], [97, 65], [97, 66], [97, 67], [97, 68], [97, 69], [97, 70], [97, 71], [97, 72], [97, 73], [97, 74], [97, 75], [97, 76], [97, 77], [97, 78], [97, 79], [97, 80], [97, 81], [97, 82], [97, 83], [97, 84], [97, 85], [97, 86], [97, 87], [97, 88], [97, 89], [97, 90], [97, 91], [97, 92], [97, 93], [97, 94], [97, 95], [97, 96], [98, 12], [98, 13], [98, 14], [98, 15], [98, 16], [98, 17], [98, 18], [98, 19], [98, 20], [98, 21], [98, 22], [98, 23], [98, 24], [98, 25], [98, 26], [98, 27], [98, 28], [98, 29], [98, 30], [98, 31], [98, 32], [98, 33], [98, 34], [98, 35], [98, 36], [98, 37], [98, 38], [98, 39], [98, 40], [98, 41], [98, 42], [98, 43], [98, 44], [98, 45], [98, 46], [98, 47], [98, 48], [98, 49], [98, 50], [98, 51], [98, 52], [98, 53], [98, 54], [98, 55], [98, 56], [98, 57], [98, 58], [98, 59], [98, 60], [98, 61], [98, 62], [98, 63], [98, 64], [98, 65], [98, 66], [98, 67], [98, 68], [98, 69], [98, 70], [98, 71], [98, 72], [98, 73], [98, 74], [98, 75], [98, 76], [98, 77], [98, 78], [98, 79], [98, 80], [98, 81], [98, 82], [98, 83], [98, 84], [98, 85], [98, 86], [98, 87], [98, 88], [98, 89], [98, 90], [98, 91], [98, 92], [98, 93], [98, 94], [98, 95], [98, 96]]\n"
     ]
    }
   ],
   "source": [
    "print(good_edges)"
   ]
  },
  {
   "cell_type": "code",
   "execution_count": null,
   "metadata": {},
   "outputs": [],
   "source": []
  }
 ],
 "metadata": {
  "kernelspec": {
   "display_name": "Python 3",
   "language": "python",
   "name": "python3"
  },
  "language_info": {
   "codemirror_mode": {
    "name": "ipython",
    "version": 3
   },
   "file_extension": ".py",
   "mimetype": "text/x-python",
   "name": "python",
   "nbconvert_exporter": "python",
   "pygments_lexer": "ipython3",
   "version": "3.8.5"
  }
 },
 "nbformat": 4,
 "nbformat_minor": 4
}
