{
 "cells": [
  {
   "cell_type": "markdown",
   "metadata": {},
   "source": [
    "# Robert's Cross Practice\n",
    "\n",
    "Essentially I didn't master implementing this concept in class, so now I want to figure it out on my own terms."
   ]
  },
  {
   "cell_type": "markdown",
   "metadata": {},
   "source": [
    "## Let's make sure the working directory is correct:"
   ]
  },
  {
   "cell_type": "code",
   "execution_count": 1,
   "metadata": {},
   "outputs": [
    {
     "data": {
      "text/plain": [
       "'C:\\\\Users\\\\chris\\\\Desktop\\\\misc\\\\hobbyStuff\\\\Programs\\\\Robberts cross\\\\main'"
      ]
     },
     "execution_count": 1,
     "metadata": {},
     "output_type": "execute_result"
    }
   ],
   "source": [
    "pwd"
   ]
  },
  {
   "cell_type": "code",
   "execution_count": 2,
   "metadata": {},
   "outputs": [
    {
     "name": "stdout",
     "output_type": "stream",
     "text": [
      " Volume in drive C is Windows\n",
      " Volume Serial Number is F8FD-8A6F\n",
      "\n",
      " Directory of C:\\Users\\chris\\Desktop\\misc\\hobbyStuff\\Programs\\Robberts cross\\main\n",
      "\n",
      "05/20/2021  01:47 PM    <DIR>          .\n",
      "05/20/2021  01:47 PM    <DIR>          ..\n",
      "05/19/2021  01:19 PM    <DIR>          .ipynb_checkpoints\n",
      "05/20/2021  01:47 PM             1,686 circle_basic_blue.png\n",
      "05/20/2021  12:46 PM           208,234 Roberts Cross Practice.ipynb\n",
      "05/19/2021  01:12 PM             1,817 square_basic.png\n",
      "05/19/2021  02:20 PM             1,921 square_basic_blue.png\n",
      "               4 File(s)        213,658 bytes\n",
      "               3 Dir(s)  856,519,708,672 bytes free\n"
     ]
    }
   ],
   "source": [
    "ls"
   ]
  },
  {
   "cell_type": "markdown",
   "metadata": {},
   "source": [
    "## Import statements"
   ]
  },
  {
   "cell_type": "code",
   "execution_count": 1,
   "metadata": {},
   "outputs": [],
   "source": [
    "import numpy as np"
   ]
  },
  {
   "cell_type": "code",
   "execution_count": 2,
   "metadata": {},
   "outputs": [],
   "source": [
    "import PIL            #import pillow to process images\n",
    "from PIL import Image # is this one even nessisary? posibly remove"
   ]
  },
  {
   "cell_type": "code",
   "execution_count": 3,
   "metadata": {},
   "outputs": [],
   "source": [
    "import pandas as pd"
   ]
  },
  {
   "cell_type": "code",
   "execution_count": 4,
   "metadata": {},
   "outputs": [],
   "source": [
    "import math"
   ]
  },
  {
   "cell_type": "markdown",
   "metadata": {},
   "source": [
    "## Experemental Additions"
   ]
  },
  {
   "cell_type": "markdown",
   "metadata": {},
   "source": [
    "These are set up for my eventual goal of making the process a definition and testing it with loops to see if the algorithm works for difrent images."
   ]
  },
  {
   "cell_type": "code",
   "execution_count": 29,
   "metadata": {},
   "outputs": [],
   "source": [
    "images = [\"square_basic.png\", \"square_basic_blue.png\", \"circle_basic_blue.png\"] \n",
    "# I hope to eventualy use this to make the bellow a function to call in a loop for this array"
   ]
  },
  {
   "cell_type": "code",
   "execution_count": 30,
   "metadata": {},
   "outputs": [],
   "source": [
    "threshold = .9 #how much of a difrence there must be for the algorythm to consider it\n"
   ]
  },
  {
   "cell_type": "markdown",
   "metadata": {},
   "source": [
    "## Getting Pillow to work\n"
   ]
  },
  {
   "cell_type": "code",
   "execution_count": 8,
   "metadata": {},
   "outputs": [],
   "source": [
    "with Image.open(images[1]) as im:    #is there a better way to do this?\n",
    "    im.show() #to make sure the image selected is the correct image"
   ]
  },
  {
   "cell_type": "code",
   "execution_count": 9,
   "metadata": {},
   "outputs": [],
   "source": [
    "im = im.convert('L') #makes it greyscale\n",
    "im = im.resize((round(im.size[0]*0.25), round(im.size[1]*0.25))) #make it smaller"
   ]
  },
  {
   "cell_type": "code",
   "execution_count": 10,
   "metadata": {},
   "outputs": [],
   "source": [
    "height = im.height\n",
    "width = im.width\n",
    "i_shape = im.size"
   ]
  },
  {
   "cell_type": "code",
   "execution_count": 11,
   "metadata": {},
   "outputs": [
    {
     "name": "stdout",
     "output_type": "stream",
     "text": [
      "height:\t 120\n",
      "width:\t 115\n",
      "shape:\t (115, 120)\n"
     ]
    }
   ],
   "source": [
    "#testors\n",
    "print(\"height:\\t\", height)\n",
    "print(\"width:\\t\", width)\n",
    "print(\"shape:\\t\", i_shape)"
   ]
  },
  {
   "cell_type": "code",
   "execution_count": 12,
   "metadata": {},
   "outputs": [],
   "source": [
    "orig_image = np.asarray(im)"
   ]
  },
  {
   "cell_type": "code",
   "execution_count": 13,
   "metadata": {},
   "outputs": [],
   "source": [
    "edges_only = np.zeros((height, width))"
   ]
  },
  {
   "cell_type": "markdown",
   "metadata": {},
   "source": [
    "## testing if the conversion worked"
   ]
  },
  {
   "cell_type": "code",
   "execution_count": 28,
   "metadata": {},
   "outputs": [
    {
     "name": "stdout",
     "output_type": "stream",
     "text": [
      "does the shape match?\t \n",
      "im.size == 120 ,  115 \n",
      "orig_image.shape == (120, 115)\n"
     ]
    }
   ],
   "source": [
    "#print(orig_image) \n",
    "print(\"does the shape match?\\t\", \"\\nim.size ==\",  height,\", \" , width, \"\\norig_image.shape ==\", orig_image.shape)\n",
    "\n",
    "test = Image.fromarray(orig_image)\n",
    "test.show() #image should be in greyscale and much smaller now"
   ]
  },
  {
   "cell_type": "markdown",
   "metadata": {},
   "source": [
    "## now the loop to cycle through the array"
   ]
  },
  {
   "cell_type": "markdown",
   "metadata": {},
   "source": [
    "let's double check that the arrays are correct before cycling through them"
   ]
  },
  {
   "cell_type": "code",
   "execution_count": 26,
   "metadata": {},
   "outputs": [
    {
     "name": "stdout",
     "output_type": "stream",
     "text": [
      "(120, 115)\n",
      "(120, 115)\n"
     ]
    }
   ],
   "source": [
    "#print(orig_image)\n",
    "print(orig_image.shape)\n",
    "\n",
    "#print(edges_only)\n",
    "print(edges_only.shape)"
   ]
  },
  {
   "cell_type": "code",
   "execution_count": 27,
   "metadata": {},
   "outputs": [
    {
     "name": "stdout",
     "output_type": "stream",
     "text": [
      "114\n",
      "119\n"
     ]
    }
   ],
   "source": [
    "print(width - 1)\n",
    "print(height - 1)"
   ]
  },
  {
   "cell_type": "markdown",
   "metadata": {},
   "source": [
    "Now let's do the loop"
   ]
  },
  {
   "cell_type": "code",
   "execution_count": 17,
   "metadata": {},
   "outputs": [
    {
     "name": "stderr",
     "output_type": "stream",
     "text": [
      "<ipython-input-17-5af74fa231ff>:13: RuntimeWarning: overflow encountered in ubyte_scalars\n",
      "  ratio = np.sqrt((patch[0] - patch[3])**2 + (patch[1] - patch[2])**2)\n"
     ]
    }
   ],
   "source": [
    "count = 0\n",
    "#this is causing an index out of bounds error -- figure out why\n",
    "for i in range(height - 1):\n",
    "    for j in range(width -1):\n",
    "        #print(\"i, j: \", i, \" \", j)\n",
    "        \n",
    "        patch = []\n",
    "        patch.append(orig_image[i, j])       #grabs the image patch (4 pixels)   #find a better way to do this\n",
    "        patch.append(orig_image[i+1, j])\n",
    "        patch.append(orig_image[i, j+1])\n",
    "        patch.append(orig_image[i+1, j+1])\n",
    "            \n",
    "        ratio = np.sqrt((patch[0] - patch[3])**2 + (patch[1] - patch[2])**2)\n",
    "        \n",
    "        #print(ratio)\n",
    "        \n",
    "        #if ratio >= threshold: count+=1\n",
    "        #print(count)\n",
    "        edges_only[i,j] = ratio\n"
   ]
  },
  {
   "cell_type": "markdown",
   "metadata": {},
   "source": [
    "Now let's make sure it worked:"
   ]
  },
  {
   "cell_type": "code",
   "execution_count": 18,
   "metadata": {},
   "outputs": [],
   "source": [
    "#print(edges_only)\n",
    "\n",
    "test = Image.fromarray(edges_only)\n",
    "test.show()"
   ]
  },
  {
   "cell_type": "markdown",
   "metadata": {},
   "source": [
    "now that we have the edges, let's isolate them"
   ]
  },
  {
   "cell_type": "code",
   "execution_count": 24,
   "metadata": {},
   "outputs": [],
   "source": [
    "good_edges = []\n",
    "\n",
    "for i in range(height - 1):\n",
    "    for j in range(width -1):\n",
    "        if edges_only[i, j] >= threshold: good_edges.append([i, j]) #let's fix this later to use dataframes instead\n",
    "good_edges2 = pd.DataFrame(good_edges, columns = ['x', 'y'])            "
   ]
  },
  {
   "cell_type": "code",
   "execution_count": 25,
   "metadata": {},
   "outputs": [
    {
     "name": "stdout",
     "output_type": "stream",
     "text": [
      "      x   y\n",
      "0    27  12\n",
      "1    27  13\n",
      "2    27  14\n",
      "3    27  15\n",
      "4    27  16\n",
      "..   ..  ..\n",
      "901  98  92\n",
      "902  98  93\n",
      "903  98  94\n",
      "904  98  95\n",
      "905  98  96\n",
      "\n",
      "[906 rows x 2 columns]\n"
     ]
    }
   ],
   "source": [
    "print(good_edges2)"
   ]
  },
  {
   "cell_type": "markdown",
   "metadata": {},
   "source": [
    "## Now let's see if it's a rectangle (includes squares)"
   ]
  },
  {
   "cell_type": "markdown",
   "metadata": {},
   "source": [
    "let's see if any x vals or y vals line up?"
   ]
  },
  {
   "cell_type": "code",
   "execution_count": null,
   "metadata": {},
   "outputs": [],
   "source": []
  }
 ],
 "metadata": {
  "kernelspec": {
   "display_name": "Python 3",
   "language": "python",
   "name": "python3"
  },
  "language_info": {
   "codemirror_mode": {
    "name": "ipython",
    "version": 3
   },
   "file_extension": ".py",
   "mimetype": "text/x-python",
   "name": "python",
   "nbconvert_exporter": "python",
   "pygments_lexer": "ipython3",
   "version": "3.8.5"
  }
 },
 "nbformat": 4,
 "nbformat_minor": 4
}
